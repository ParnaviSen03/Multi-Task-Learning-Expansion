{
 "cells": [
  {
   "cell_type": "markdown",
   "id": "daa28b4b",
   "metadata": {},
   "source": [
    "# Task 1:Sentence Transformer Implementation"
   ]
  },
  {
   "cell_type": "markdown",
   "id": "8ae7ab71",
   "metadata": {},
   "source": [
    "**Objective:**\n",
    "\n",
    "To implement a sentence embedding model using a pre-trained transformer (BERT) and apply a pooling strategy to produce fixed-length sentence representations."
   ]
  },
  {
   "cell_type": "markdown",
   "id": "84a5f9f8",
   "metadata": {},
   "source": [
    "### Model Components\n",
    "\n",
    "- **Backbone:** `bert-base-uncased` from Hugging Face's Transformers.\n",
    "- **Tokenizer:** Converts raw text into token IDs along with attention masks.\n",
    "- **Pooling Strategy:** Applies **mean pooling** over token embeddings to obtain fixed-length sentence representations, averaging only over non-padded tokens.\n"
   ]
  },
  {
   "cell_type": "code",
   "execution_count": 75,
   "id": "ff257ba3",
   "metadata": {},
   "outputs": [],
   "source": [
    "from transformers import BertTokenizer, BertModel\n",
    "from datasets import load_dataset\n",
    "import torch\n",
    "import torch.nn as nn"
   ]
  },
  {
   "cell_type": "code",
   "execution_count": 40,
   "id": "3cbb4f9a",
   "metadata": {},
   "outputs": [],
   "source": [
    "class SentenceEncoder(nn.Module):\n",
    "    def __init__(self, model_name: str = \"bert-base-uncased\"):\n",
    "        super(SentenceEncoder, self).__init__()\n",
    "        self.tokenizer = BertTokenizer.from_pretrained(model_name)\n",
    "        self.encoder = BertModel.from_pretrained(model_name)\n",
    "        self.encoder.eval()  # freeze for inference use\n",
    "\n",
    "    def mean_pooling(self, token_embeddings, attention_mask):\n",
    "        # Mean Pooling - Take attention mask into account for correct averaging\n",
    "        mask_expanded = attention_mask.unsqueeze(-1).expand(token_embeddings.size())\n",
    "        summed = torch.sum(token_embeddings * mask_expanded, dim=1)\n",
    "        counts = torch.clamp(mask_expanded.sum(dim=1), min=1e-9)\n",
    "        return summed / counts\n",
    "\n",
    "    def encode(self, sentences: list[str]):\n",
    "        inputs = self.tokenizer(sentences, padding=True, truncation=True, return_tensors=\"pt\")\n",
    "        with torch.no_grad():\n",
    "            outputs = self.encoder(**inputs)\n",
    "        embeddings = self.mean_pooling(outputs.last_hidden_state, inputs['attention_mask'])\n",
    "        return embeddings"
   ]
  },
  {
   "cell_type": "code",
   "execution_count": 41,
   "id": "647228d4",
   "metadata": {},
   "outputs": [
    {
     "name": "stdout",
     "output_type": "stream",
     "text": [
      "\n",
      "Sentence Embeddings (first 5 dimensions shown):\n",
      "Sentence 1: [-0.22473879 -0.00371934  0.11108795  0.05122917  0.25394395] ... (dim: 768)\n",
      "Sentence 2: [-0.03231874  0.18161002 -0.03616809 -0.08750607  0.43870243] ... (dim: 768)\n",
      "Sentence 3: [ 0.39910567 -0.1800227   0.12126693 -0.2996586  -0.09475167] ... (dim: 768)\n",
      "Sentence 4: [-0.02325898 -0.23905042  0.18968278 -0.1234847   0.11102316] ... (dim: 768)\n",
      "Sentence 5: [-0.29562283  0.1422147  -0.18049541 -0.08939303  0.11263766] ... (dim: 768)\n"
     ]
    }
   ],
   "source": [
    "# Example usage\n",
    "from datasets import load_dataset\n",
    "\n",
    "# Instantiate the class\n",
    "encoder = SentenceEncoder()\n",
    "\n",
    "# Load sample data from SST-2\n",
    "sst2 = load_dataset(\"glue\", \"sst2\", split=\"train\")\n",
    "long_sentences = [item['sentence'] for item in sst2 if len(item['sentence'].split()) > 20]\n",
    "sample_sentences = long_sentences[:5]\n",
    "\n",
    "# Generate sentence embeddings\n",
    "embeddings = encoder.encode(sample_sentences)\n",
    "\n",
    "# Display output\n",
    "print(\"\\nSentence Embeddings (first 5 dimensions shown):\")\n",
    "for i, embedding in enumerate(embeddings):\n",
    "    print(f\"Sentence {i+1}: {embedding[:5].numpy()} ... (dim: {embedding.shape[0]})\")\n"
   ]
  },
  {
   "cell_type": "markdown",
   "id": "6e7f9712",
   "metadata": {},
   "source": [
    "# Task 2: Multi-Task Learning Expansion"
   ]
  },
  {
   "cell_type": "markdown",
   "id": "7f4ae0a5",
   "metadata": {},
   "source": [
    "**Objective:**\n",
    "\n",
    "Extend the sentence transformer into a multi-task model handling two classification tasks using a shared BERT encoder and separate heads."
   ]
  },
  {
   "cell_type": "code",
   "execution_count": 51,
   "id": "0d823672",
   "metadata": {},
   "outputs": [],
   "source": [
    "# Heuristic function for Task B\n",
    "def is_question(sentence):\n",
    "    sentence = sentence.lower().strip()\n",
    "    question_starts = (\"what\", \"why\", \"how\", \"who\", \"where\", \"when\", \"which\", \"is\", \"are\", \"do\", \"does\", \"can\")\n",
    "    return int(sentence.endswith(\"?\") or sentence.startswith(question_starts))\n",
    "\n",
    "# Multi-task model class\n",
    "class MultiTaskSentenceModel(nn.Module):\n",
    "    def __init__(self, model_name=\"bert-base-uncased\", task_output_dims={\"a\": 2, \"b\": 2}):\n",
    "        super(MultiTaskSentenceModel, self).__init__()\n",
    "        self.encoder = BertModel.from_pretrained(model_name)\n",
    "        self.task_heads = nn.ModuleDict({\n",
    "            task: nn.Linear(self.encoder.config.hidden_size, out_dim)\n",
    "            for task, out_dim in task_output_dims.items()\n",
    "        })\n",
    "\n",
    "    def mean_pooling(self, token_embeddings, attention_mask):\n",
    "        mask_expanded = attention_mask.unsqueeze(-1).expand(token_embeddings.size())\n",
    "        summed = torch.sum(token_embeddings * mask_expanded, dim=1)\n",
    "        counts = torch.clamp(mask_expanded.sum(dim=1), min=1e-9)\n",
    "        return summed / counts\n",
    "\n",
    "    def forward(self, input_ids, attention_mask, task):\n",
    "        outputs = self.encoder(input_ids=input_ids, attention_mask=attention_mask)\n",
    "        pooled_output = self.mean_pooling(outputs.last_hidden_state, attention_mask)\n",
    "        return self.task_heads[task](pooled_output)\n"
   ]
  },
  {
   "cell_type": "code",
   "execution_count": 52,
   "id": "03364c17",
   "metadata": {},
   "outputs": [],
   "source": [
    "import random\n",
    "import numpy as np\n",
    "\n",
    "def set_seed(seed=42):\n",
    "    random.seed(seed)\n",
    "    np.random.seed(seed)\n",
    "    torch.manual_seed(seed)\n",
    "    torch.cuda.manual_seed_all(seed)\n",
    "    torch.backends.cudnn.deterministic = True\n",
    "    torch.backends.cudnn.benchmark = False\n",
    "\n",
    "set_seed(42)"
   ]
  },
  {
   "cell_type": "code",
   "execution_count": 53,
   "id": "d1354a6a",
   "metadata": {},
   "outputs": [
    {
     "name": "stdout",
     "output_type": "stream",
     "text": [
      "[Task A - Sentiment] Accuracy: 0.5230\n",
      "[Task B - Question Detection] Accuracy: 0.5630\n"
     ]
    }
   ],
   "source": [
    "# Setup\n",
    "device = torch.device(\"cuda\" if torch.cuda.is_available() else \"cpu\")\n",
    "model = MultiTaskSentenceModel().to(device)\n",
    "tokenizer = BertTokenizer.from_pretrained(\"bert-base-uncased\")\n",
    "\n",
    "# Sample data\n",
    "sst2 = load_dataset(\"glue\", \"sst2\", split=\"train[:1000]\")\n",
    "sentences = [x[\"sentence\"] for x in sst2]\n",
    "task_a_labels = torch.tensor([x[\"label\"] for x in sst2])\n",
    "task_b_labels = torch.tensor([is_question(s) for s in sentences])\n",
    "\n",
    "# Tokenize\n",
    "inputs = tokenizer(sentences, padding=True, truncation=True, return_tensors=\"pt\")\n",
    "inputs.pop(\"token_type_ids\")  # Drop token_type_ids since its not used\n",
    "inputs = {k: v.to(device) for k, v in inputs.items()}\n",
    "\n",
    "# Inference\n",
    "model.eval()\n",
    "with torch.no_grad():\n",
    "    logits_a = model(**inputs, task=\"a\")\n",
    "    logits_b = model(**inputs, task=\"b\")\n",
    "\n",
    "# Predictions\n",
    "preds_a = torch.argmax(logits_a, dim=1).cpu()\n",
    "preds_b = torch.argmax(logits_b, dim=1).cpu()\n",
    "\n",
    "# Evaluation\n",
    "acc_a = accuracy_score(task_a_labels, preds_a)\n",
    "acc_b = accuracy_score(task_b_labels, preds_b)\n",
    "\n",
    "print(f\"[Task A - Sentiment] Accuracy: {acc_a:.4f}\")\n",
    "print(f\"[Task B - Question Detection] Accuracy: {acc_b:.4f}\")\n"
   ]
  },
  {
   "cell_type": "markdown",
   "id": "bbfc7aa6",
   "metadata": {},
   "source": [
    "## Task 2: Multi-Task Learning Expansion\n",
    "\n",
    "### Task A – Sentence Classification\n",
    "We used the SST-2 dataset from the GLUE benchmark for binary sentiment classification (positive vs. negative). Labels are provided as part of the dataset.\n",
    "\n",
    "### Task B – Question Detection (Synthetic Task)\n",
    "We defined a secondary task to classify whether a sentence is a question. Labels were generated using simple heuristic rules:\n",
    "\n",
    "- Label = `1` if the sentence ends with a question mark (`?`) or begins with typical question words (e.g., *what*, *why*, *how*, etc.).\n",
    "- Label = `0` otherwise.\n",
    "\n",
    "---\n",
    "\n",
    "### Architectural Modifications\n",
    "\n",
    "To enable multi-task learning, the original sentence transformer was extended with the following components:\n",
    "\n",
    "#### 1. Shared BERT Encoder\n",
    "A single pre-trained BERT model (`bert-base-uncased`) is used to convert input sentences into contextualized token embeddings. Sharing the encoder allows both tasks to leverage the same semantic understanding of the input.\n",
    "\n",
    "#### 2. Mean Pooling Layer\n",
    "Since BERT outputs token-level embeddings, we apply **mean pooling** across valid (non-padding) tokens to obtain a fixed-length sentence embedding for each input.\n",
    "\n",
    "#### 3. Task-Specific Heads\n",
    "We attach two independent classification heads implemented via a `ModuleDict`, mapping task identifiers (`\"a\"`, `\"b\"`) to their corresponding `Linear` layers:\n",
    "- Task `\"a\"` → Sentiment Classification (2 classes)\n",
    "- Task `\"b\"` → Question Detection (2 classes)\n",
    "\n",
    "Each task-specific head is trained independently using the shared representation from the encoder.\n",
    "\n",
    "#### 4. Modified Forward Method\n",
    "The `forward()` method accepts an additional `task` argument that determines which classification head to route the pooled embedding through. This allows for flexible, task-aware inference and training in a multi-task setting.\n",
    "\n",
    "---\n",
    "\n",
    "### Notes on Current Results\n",
    "\n",
    "As the task-specific heads are randomly initialized and untrained, performance varies across runs.  A proper training loop and balanced loss functions will be necessary to yield meaningful results.\n"
   ]
  },
  {
   "cell_type": "markdown",
   "id": "cb351863",
   "metadata": {},
   "source": [
    "# Task 3: Training Considerations"
   ]
  },
  {
   "cell_type": "markdown",
   "id": "3ea3ce27",
   "metadata": {},
   "source": [
    "### If the entire network is frozen\n",
    "\n",
    "If the entire network is frozen, no parameters in the BERT encoder or the classification heads are updated. While the model can still process inputs and make predictions, it won’t learn from the training data — the weights remain exactly as they were when the model was loaded (usually from a pretrained checkpoint).\n",
    "\n",
    "This setup is commonly used for inference or when using BERT as a fixed feature extractor. Sentence embeddings are generated once using the pretrained BERT model, and a separate lightweight classifier can be trained on top.\n",
    "\n",
    "- **Advantages:**\n",
    "  - Faster training and lower memory usage\n",
    "  - Reduces the risk of overfitting, especially on small datasets\n",
    "\n",
    "- **Disadvantages:**\n",
    "  - The model cannot adapt to task-specific nuances\n",
    "  - Performance may be suboptimal compared to a fine-tuned model\n",
    "\n",
    "---\n",
    "\n",
    "### If only the transformer backbone is frozen\n",
    "\n",
    "In this case, the BERT encoder’s weights are frozen, but the task-specific classification heads remain trainable. This allows the model to retain BERT’s general language understanding while adapting the classification heads to specific tasks.\n",
    "\n",
    "- **Advantages:**\n",
    "  - Good balance between retaining pretrained knowledge and enabling task-specific learning\n",
    "  - Faster and more resource-efficient than full fine-tuning\n",
    "  - Helps avoid overfitting with limited data\n",
    "\n",
    "- **Disadvantages:**\n",
    "  - Might not capture task-specific sentence representations as effectively as full fine-tuning\n",
    "  - Typically performs better than freezing everything, but not as well as fine-tuning the full model\n",
    "\n",
    "---\n",
    "\n",
    "### If only one of the task-specific heads is frozen\n",
    "\n",
    "One classification head is frozen, while the rest of the model (BERT and the other head) remains trainable. This is useful in multi-task settings where one task has already been well-trained or has converged.\n",
    "\n",
    "- **Advantages:**\n",
    "  - Maintains performance on the frozen task while improving the other\n",
    "  - Helps prevent negative transfer between tasks\n",
    "\n",
    "- **Disadvantages:**\n",
    "  - Assumes the frozen head is already optimized — if not, performance on that task could stagnate or underperform\n",
    "\n",
    "---\n",
    "\n",
    "## Transfer Learning Scenario\n",
    "\n",
    "Imagine a scenario where we have limited labeled data for a specialized NLP task — like classifying customer support tickets or detecting certain types of user questions. Training a large model from scratch would be inefficient and likely lead to overfitting. Transfer learning allows us to leverage a pretrained language model and adapt it efficiently.\n",
    "\n",
    "### 1. Choice of a Pretrained Model\n",
    "\n",
    "We would use `bert-base-uncased` from Hugging Face because:\n",
    "\n",
    "- It’s pretrained on a large English corpus (BooksCorpus and Wikipedia)\n",
    "- With 12 layers and 110M parameters, it strikes a good balance between power and efficiency\n",
    "- It’s well-supported, widely used, and easy to integrate using the Hugging Face Transformers library\n",
    "\n",
    "### 2. Layers to Freeze/Unfreeze\n",
    "\n",
    "We would freeze the lower layers of BERT (e.g., layers 0–6) and fine-tune the upper layers (e.g., layers 7–11), along with the task-specific heads.\n",
    "\n",
    "This gives a good balance of:\n",
    "\n",
    "- Keeping general language knowledge intact\n",
    "- Allowing higher-level representations to adjust to your specific data\n",
    "\n",
    "### 3. Rationale Behind These Choices\n",
    "\n",
    "- Lower layers in BERT capture general language features (syntax, word relationships, grammar) — these are transferable and usually don’t need re-training\n",
    "- Upper layers are more task-specific and benefit from fine-tuning\n",
    "\n",
    "Freezing the lower layers:\n",
    "- Prevents overfitting\n",
    "- Speeds up training\n",
    "- Reduces the number of trainable parameters\n",
    "\n",
    "Fine-tuning the upper layers and task heads helps the model adapt to the task while still leveraging pretrained strengths.\n",
    "\n",
    "This strategy is especially useful when working with limited labeled data or compute resources.\n"
   ]
  },
  {
   "cell_type": "markdown",
   "id": "c0cfe6b0",
   "metadata": {},
   "source": [
    "# Task 4"
   ]
  },
  {
   "cell_type": "code",
   "execution_count": 61,
   "id": "7270f6e2",
   "metadata": {},
   "outputs": [],
   "source": [
    "from torch.utils.data import DataLoader, TensorDataset\n"
   ]
  },
  {
   "cell_type": "code",
   "execution_count": 62,
   "id": "8479ed23",
   "metadata": {},
   "outputs": [],
   "source": [
    "# Hyperparameters\n",
    "batch_size = 16\n",
    "learning_rate = 2e-5\n",
    "num_epochs = 3\n",
    "device = torch.device(\"cuda\" if torch.cuda.is_available() else \"cpu\")"
   ]
  },
  {
   "cell_type": "code",
   "execution_count": 63,
   "id": "a063716c",
   "metadata": {},
   "outputs": [],
   "source": [
    "# Load data and preprocess\n",
    "tokenizer = BertTokenizer.from_pretrained(\"bert-base-uncased\")\n",
    "sst2 = load_dataset(\"glue\", \"sst2\", split=\"train[:1000]\")\n",
    "sentences = [x[\"sentence\"] for x in sst2]\n",
    "# Convert labels to tensors\n",
    "task_a_labels = torch.tensor([x[\"label\"] for x in sst2])\n",
    "task_b_labels = torch.tensor([is_question(s) for s in sentences])\n",
    "\n",
    "inputs = tokenizer(sentences, padding=True, truncation=True, return_tensors=\"pt\")\n",
    "input_ids = inputs[\"input_ids\"]\n",
    "attention_mask = inputs[\"attention_mask\"]"
   ]
  },
  {
   "cell_type": "code",
   "execution_count": 64,
   "id": "c3c5e115",
   "metadata": {},
   "outputs": [],
   "source": [
    "# Build dataset and dataloader\n",
    "dataset = TensorDataset(input_ids, attention_mask, task_a_labels, task_b_labels)\n",
    "loader = DataLoader(dataset, batch_size=batch_size, shuffle=True)"
   ]
  },
  {
   "cell_type": "code",
   "execution_count": 65,
   "id": "429fb2d0",
   "metadata": {},
   "outputs": [],
   "source": [
    "# Initialize model, loss, optimizer\n",
    "model = MultiTaskSentenceModel().to(device)\n",
    "optimizer = torch.optim.Adam(model.parameters(), lr=learning_rate)\n",
    "loss_fn = nn.CrossEntropyLoss()\n"
   ]
  },
  {
   "cell_type": "code",
   "execution_count": 66,
   "id": "98c9ddc8",
   "metadata": {},
   "outputs": [
    {
     "name": "stdout",
     "output_type": "stream",
     "text": [
      "\n",
      "Epoch 1/3\n",
      "Task A - Sentiment: Loss = 31.4416, Accuracy = 0.7560\n",
      "Task B - Question Detection: Loss = 15.2628, Accuracy = 0.9290\n",
      "\n",
      "Epoch 2/3\n",
      "Task A - Sentiment: Loss = 13.4103, Accuracy = 0.9260\n",
      "Task B - Question Detection: Loss = 8.2115, Accuracy = 0.9570\n",
      "\n",
      "Epoch 3/3\n",
      "Task A - Sentiment: Loss = 4.4445, Accuracy = 0.9730\n",
      "Task B - Question Detection: Loss = 3.6779, Accuracy = 0.9890\n"
     ]
    }
   ],
   "source": [
    "# Training loop\n",
    "loss_history_a = []\n",
    "loss_history_b = []\n",
    "acc_history_a = []\n",
    "acc_history_b = []\n",
    "for epoch in range(num_epochs):\n",
    "    model.train()\n",
    "    total_loss_a, total_loss_b = 0.0, 0.0\n",
    "    correct_a, correct_b = 0, 0\n",
    "    total = 0\n",
    "\n",
    "    for batch in loader:\n",
    "        input_ids, attention_mask, labels_a, labels_b = [b.to(device) for b in batch]\n",
    "\n",
    "        optimizer.zero_grad()\n",
    "\n",
    "        # Task A: Sentiment Classification\n",
    "        logits_a = model(input_ids, attention_mask, task=\"a\")\n",
    "        loss_a = loss_fn(logits_a, labels_a)\n",
    "        preds_a = torch.argmax(logits_a, dim=1)\n",
    "        correct_a += (preds_a == labels_a).sum().item()\n",
    "\n",
    "        # Task B: Question Detection\n",
    "        logits_b = model(input_ids, attention_mask, task=\"b\")\n",
    "        loss_b = loss_fn(logits_b, labels_b)\n",
    "        preds_b = torch.argmax(logits_b, dim=1)\n",
    "        correct_b += (preds_b == labels_b).sum().item()\n",
    "\n",
    "        # Combine losses and backpropagate\n",
    "        total_loss = loss_a + loss_b\n",
    "        total_loss.backward()\n",
    "        optimizer.step()\n",
    "\n",
    "        total_loss_a += loss_a.item()\n",
    "        total_loss_b += loss_b.item()\n",
    "        total += labels_a.size(0)\n",
    "    # Average losses and accuracy\n",
    "    avg_loss_a = total_loss_a / len(loader)\n",
    "    avg_loss_b = total_loss_b / len(loader)\n",
    "    acc_a = correct_a / total\n",
    "    acc_b = correct_b / total\n",
    "\n",
    "    # Save for plotting\n",
    "    loss_history_a.append(avg_loss_a)\n",
    "    loss_history_b.append(avg_loss_b)\n",
    "    acc_history_a.append(acc_a)\n",
    "    acc_history_b.append(acc_b)\n",
    "\n",
    "    print(f\"\\nEpoch {epoch + 1}/{num_epochs}\")\n",
    "    print(f\"Task A - Sentiment: Loss = {total_loss_a:.4f}, Accuracy = {correct_a / total:.4f}\")\n",
    "    print(f\"Task B - Question Detection: Loss = {total_loss_b:.4f}, Accuracy = {correct_b / total:.4f}\")"
   ]
  },
  {
   "cell_type": "code",
   "execution_count": 71,
   "id": "16ab0706",
   "metadata": {},
   "outputs": [
    {
     "data": {
      "image/png": "[encoded data removed]",
      "text/plain": [
       "<Figure size 800x500 with 1 Axes>"
      ]
     },
     "metadata": {},
     "output_type": "display_data"
    },
    {
     "data": {
      "image/png": "[encoded data removed]",
      "text/plain": [
       "<Figure size 800x500 with 1 Axes>"
      ]
     },
     "metadata": {},
     "output_type": "display_data"
    }
   ],
   "source": [
    "import matplotlib.pyplot as plt\n",
    "\n",
    "epochs = range(1, num_epochs + 1)\n",
    "\n",
    "# --- Loss Plot ---\n",
    "plt.figure(figsize=(8, 5))\n",
    "plt.plot(epochs, loss_history_a, marker='o', label=\"Task A - Sentiment Loss\")\n",
    "plt.plot(epochs, loss_history_b, marker='s', label=\"Task B - Question Detection Loss\")\n",
    "plt.xlabel(\"Epoch\")\n",
    "plt.ylabel(\"Loss\")\n",
    "plt.title(\"Training Loss per Task\")\n",
    "plt.legend()\n",
    "plt.tight_layout()\n",
    "plt.show()\n",
    "\n",
    "# --- Accuracy Plot ---\n",
    "plt.figure(figsize=(8, 5))\n",
    "plt.plot(epochs, acc_history_a, marker='o', label=\"Task A - Sentiment Accuracy\")\n",
    "plt.plot(epochs, acc_history_b, marker='s', label=\"Task B - Question Detection Accuracy\")\n",
    "plt.xlabel(\"Epoch\")\n",
    "plt.ylabel(\"Accuracy\")\n",
    "plt.title(\"Training Accuracy per Task\")\n",
    "plt.ylim(0, 1)\n",
    "plt.legend()\n",
    "plt.tight_layout()\n",
    "plt.show()\n"
   ]
  },
  {
   "cell_type": "markdown",
   "id": "dd302c57",
   "metadata": {},
   "source": [
    "In this section, we implemented and trained a multi-task sentence transformer model to simultaneously solve two classification tasks:\n",
    "\n",
    "- **Task A – Sentiment Classification** using the SST-2 dataset\n",
    "- **Task B – Question Detection** using synthetically generated heuristic labels\n",
    "\n",
    "---\n",
    "\n",
    "###  Key Components:\n",
    "- **Shared BERT Encoder:** `bert-base-uncased` pretrained model to encode sentences.\n",
    "- **Mean Pooling Layer:** Converts token embeddings to fixed-length sentence representations.\n",
    "- **Task-Specific Heads:** Two linear layers for Task A and Task B, trained separately but optimized jointly.\n",
    "- **Loss Function:** `CrossEntropyLoss` applied independently to each task.\n",
    "- **Optimizer:** `Adam` optimizer with a learning rate of `2e-5`.\n",
    "\n",
    "---\n",
    "\n",
    "###  Training Loop Design:\n",
    "- Combined both tasks into a single `DataLoader` batch using `TensorDataset`.\n",
    "- During each forward pass:\n",
    "  - Predictions were generated for both tasks.\n",
    "  - Individual losses were computed and summed.\n",
    "  - Gradients were backpropagated using the joint loss.\n",
    "- Tracked **accuracy** and **loss per task** at every epoch.\n",
    "\n",
    "---\n",
    "\n",
    "###  Results Visualization:\n",
    "We plotted task-specific **loss and accuracy curves** to observe the training progression:\n",
    "\n",
    "- **Loss Curves:** Showed how each task's loss decreased over epochs, indicating effective learning.\n",
    "- **Accuracy Curves:** Helped evaluate performance trends. Task B typically converged faster due to its simpler decision boundary, while Task A improved more gradually.\n",
    "\n",
    "---\n",
    "\n",
    "###  Takeaway:\n",
    "This training framework demonstrates how a shared transformer backbone can efficiently support multiple downstream NLP tasks. The modular design also enables future extension with additional tasks, weighted loss balancing, or domain adaptation through transfer learning.\n"
   ]
  },
  {
   "cell_type": "markdown",
   "id": "fa4c33f2",
   "metadata": {},
   "source": [
    "###  Accuracy: Before vs. After Training\n",
    "\n",
    "Before training, both task-specific classification heads were randomly initialized. This led to relatively low and unstable performance:\n",
    "\n",
    "| Phase            | Task A (Sentiment) | Task B (Question Detection) |\n",
    "|------------------|--------------------|------------------------------|\n",
    "| **Before Training** | 0.5230 (near-random) | 0.5630 (inconsistent heuristic learning) |\n",
    "\n",
    "After training for **3 epochs**, the model learned to effectively use the shared BERT encoder and adapt the task-specific heads:\n",
    "\n",
    "| Epoch | Task A - Accuracy | Task B - Accuracy |\n",
    "|-------|-------------------|-------------------|\n",
    "| 1     | 0.7560            | 0.9290            |\n",
    "| 2     | 0.9260            | 0.9570            |\n",
    "| 3     | **0.9730**        | **0.9890**        |\n",
    "\n",
    "This shows significant gains in both tasks:\n",
    "\n",
    "- **Task A (Sentiment):** Improved from ~52% to **97.3%**\n",
    "- **Task B (Question Detection):** Improved from ~56% to **98.9%**\n",
    "\n",
    "These results confirm the effectiveness of the multi-task training loop and the benefit of fine-tuning task-specific heads while leveraging a shared BERT backbone.\n"
   ]
  },
  {
   "cell_type": "code",
   "execution_count": null,
   "id": "59070c82",
   "metadata": {},
   "outputs": [],
   "source": []
  }
 ],
 "metadata": {
  "kernelspec": {
   "display_name": "Python 3 (ipykernel)",
   "language": "python",
   "name": "python3"
  },
  "language_info": {
   "codemirror_mode": {
    "name": "ipython",
    "version": 3
   },
   "file_extension": ".py",
   "mimetype": "text/x-python",
   "name": "python",
   "nbconvert_exporter": "python",
   "pygments_lexer": "ipython3",
   "version": "3.9.13"
  }
 },
 "nbformat": 4,
 "nbformat_minor": 5
}
